{
 "cells": [
  {
   "cell_type": "markdown",
   "id": "fe7dcc0f-8e4c-45ff-bb11-472284cdc6b2",
   "metadata": {},
   "source": [
    "1)"
   ]
  },
  {
   "cell_type": "markdown",
   "id": "803b360a-0d2f-44e9-943b-1fd1f2233293",
   "metadata": {},
   "source": [
    "\"def\" keyword is used to create a function."
   ]
  },
  {
   "cell_type": "code",
   "execution_count": 21,
   "id": "4aa2bf76-b15d-4838-8632-176c31fffe2f",
   "metadata": {},
   "outputs": [],
   "source": [
    "def get_odd_numbers():\n",
    "    odd_numbers = []\n",
    "    for i in range(1, 26):\n",
    "        if i % 2 != 0:\n",
    "            odd_numbers.append(i)\n",
    "    return odd_numbers\n"
   ]
  },
  {
   "cell_type": "code",
   "execution_count": 22,
   "id": "bbdf1329-165f-4d7e-b6df-7c15f28f78e1",
   "metadata": {},
   "outputs": [
    {
     "data": {
      "text/plain": [
       "[1, 3, 5, 7, 9, 11, 13, 15, 17, 19, 21, 23, 25]"
      ]
     },
     "execution_count": 22,
     "metadata": {},
     "output_type": "execute_result"
    }
   ],
   "source": [
    "get_odd_numbers()"
   ]
  },
  {
   "cell_type": "markdown",
   "id": "95c93d3b-31f5-42bf-82f0-7dbdeae5207f",
   "metadata": {},
   "source": [
    "2)"
   ]
  },
  {
   "cell_type": "raw",
   "id": "b9a77600-02cd-45ef-87ab-fc06a8febf96",
   "metadata": {},
   "source": [
    "*args and **kwargs are special syntax in Python for passing a variable number of arguments to a function. They allow you to pass an arbitrary number of arguments to the function, either positional arguments or keyword arguments.\n"
   ]
  },
  {
   "cell_type": "raw",
   "id": "8a37ada3-40f3-45d9-b72a-3481f380f2e9",
   "metadata": {},
   "source": [
    "The *args syntax is used to pass a variable number of positional arguments to a function. The arguments passed to the function using *args will be packed into a tuple. \n",
    "\n"
   ]
  },
  {
   "cell_type": "code",
   "execution_count": 23,
   "id": "b79ef686-d959-4232-a546-c2ede62ef8e3",
   "metadata": {},
   "outputs": [
    {
     "name": "stdout",
     "output_type": "stream",
     "text": [
      "1\n",
      "2\n",
      "3\n",
      "4\n"
     ]
    }
   ],
   "source": [
    "def print_args(*args):\n",
    "    for arg in args:\n",
    "        print(arg)\n",
    "\n",
    "print_args(1, 2, 3, 4)\n"
   ]
  },
  {
   "cell_type": "raw",
   "id": "65fd72a6-fe69-4d0e-9fa8-752e0f997c89",
   "metadata": {},
   "source": [
    "The **kwargs syntax is used to pass a variable number of keyword arguments to a function. The arguments passed to the function using **kwargs will be packed into a dictionary."
   ]
  },
  {
   "cell_type": "code",
   "execution_count": 24,
   "id": "6ab5c5e8-f3fe-4a00-89f0-504c3489d978",
   "metadata": {},
   "outputs": [
    {
     "name": "stdout",
     "output_type": "stream",
     "text": [
      "a: 1\n",
      "b: 2\n",
      "c: 3\n"
     ]
    }
   ],
   "source": [
    "def print_kwargs(**kwargs):\n",
    "    for key, value in kwargs.items():\n",
    "        print(f\"{key}: {value}\")\n",
    "\n",
    "print_kwargs(a=1, b=2, c=3)\n"
   ]
  },
  {
   "cell_type": "markdown",
   "id": "edf08eb4-065c-4750-9c38-83eabbf08708",
   "metadata": {},
   "source": [
    "3)"
   ]
  },
  {
   "cell_type": "raw",
   "id": "fb7d8f47-1f3a-46f6-b729-e61c6105de00",
   "metadata": {},
   "source": [
    "In Python, an iterator is an object that implements the iterator protocol, which consists of the methods __iter__() and __next__(). An object is called iterable if it can be used in a for loop, and it is an iterator if it implements the iterator protocol.\n",
    "\n",
    "The __iter__ method is used to initialize the iterator object and it returns the iterator object itself. The __next__ method is used for iteration, and it returns the next value from the iterator each time it is called. If there are no more values to return, it should raise the StopIteration exception.\n",
    "\n",
    "\n",
    "\n",
    "\n",
    "\n",
    "\n",
    "\n"
   ]
  },
  {
   "cell_type": "code",
   "execution_count": 25,
   "id": "6e747885-d8e3-4622-9ff0-4036cddd10ac",
   "metadata": {},
   "outputs": [
    {
     "name": "stdout",
     "output_type": "stream",
     "text": [
      "2\n",
      "4\n",
      "6\n",
      "8\n",
      "10\n"
     ]
    }
   ],
   "source": [
    "class MyIterator:\n",
    "    def __init__(self, data):\n",
    "        self.data = data\n",
    "        self.index = 0\n",
    "        \n",
    "    def __iter__(self):\n",
    "        return self\n",
    "    \n",
    "    def __next__(self):\n",
    "        if self.index >= len(self.data):\n",
    "            raise StopIteration\n",
    "        result = self.data[self.index]\n",
    "        self.index += 1\n",
    "        return result\n",
    "    \n",
    "    \n",
    "data = [2, 4, 6, 8, 10, 12, 14, 16, 18, 20]\n",
    "it = MyIterator(data)\n",
    "\n",
    "for i in range(5):\n",
    "    print(next(it))\n"
   ]
  },
  {
   "cell_type": "markdown",
   "id": "1c7ddd82-3b28-4ec1-8445-7e02b8eb5eb6",
   "metadata": {},
   "source": [
    "4)"
   ]
  },
  {
   "cell_type": "markdown",
   "id": "1090c605-560f-4d27-8fe5-e1c4e9c879fe",
   "metadata": {},
   "source": [
    "A generator function is a special type of function in Python that returns a generator iterator. A generator function is defined like a normal function, but instead of using the return statement to return a value, it uses the yield keyword. When a generator function is called, it returns a generator iterator, but it does not execute the function body immediately. Instead, the function body is executed each time the next method is called on the generator iterator.\n",
    "\n",
    "The yield keyword is used to produce a value from the generator function and return it to the caller. The function then suspends its execution and retains its state, so the next time the next method is called, the function resumes from where it left off and continues executing until it encounters the next yield statement. This process repeats until the generator function terminates."
   ]
  },
  {
   "cell_type": "code",
   "execution_count": 26,
   "id": "d5fd6c39-7625-4ca9-b433-778e4d73db2c",
   "metadata": {},
   "outputs": [],
   "source": [
    "def fib(n):\n",
    "    a,b=0,1\n",
    "    for i in range(n):\n",
    "        yield a\n",
    "        a,b=b,a+b"
   ]
  },
  {
   "cell_type": "code",
   "execution_count": 27,
   "id": "aedd1b81-ec1f-4a1f-99ca-dbfd4e5aab56",
   "metadata": {},
   "outputs": [
    {
     "name": "stdout",
     "output_type": "stream",
     "text": [
      "0\n",
      "1\n",
      "1\n",
      "2\n",
      "3\n",
      "5\n",
      "8\n",
      "13\n",
      "21\n",
      "34\n"
     ]
    }
   ],
   "source": [
    "for i in fib(10):\n",
    "    print(i)"
   ]
  },
  {
   "cell_type": "markdown",
   "id": "45e24c79-5725-42ba-8947-75bea4b6b453",
   "metadata": {},
   "source": [
    "5)"
   ]
  },
  {
   "cell_type": "code",
   "execution_count": 35,
   "id": "ce378a7f-3672-48c5-af81-cc766f247582",
   "metadata": {},
   "outputs": [
    {
     "name": "stdout",
     "output_type": "stream",
     "text": [
      "2\n",
      "3\n",
      "5\n",
      "7\n",
      "11\n",
      "13\n",
      "17\n",
      "19\n",
      "23\n",
      "29\n",
      "31\n",
      "37\n",
      "41\n",
      "43\n",
      "47\n",
      "53\n",
      "59\n",
      "61\n",
      "67\n",
      "71\n"
     ]
    }
   ],
   "source": [
    "def prime_numbers():\n",
    "    primes = []\n",
    "    for num in range(2, 1000):\n",
    "        for prime in primes:\n",
    "            if num % prime == 0:\n",
    "                break\n",
    "        else:\n",
    "            primes.append(num)\n",
    "            yield num\n",
    "\n",
    "primes = prime_numbers()\n",
    "for i in range(20):\n",
    "    print(next(primes))\n"
   ]
  },
  {
   "cell_type": "markdown",
   "id": "dc03c201-ab69-407b-886e-a337cdc2b8a4",
   "metadata": {},
   "source": [
    "6)"
   ]
  },
  {
   "cell_type": "code",
   "execution_count": 37,
   "id": "9f4218e1-b305-48de-8c39-71f4166c4c80",
   "metadata": {},
   "outputs": [
    {
     "name": "stdin",
     "output_type": "stream",
     "text": [
      "Enter your limit for fib 10\n"
     ]
    },
    {
     "name": "stdout",
     "output_type": "stream",
     "text": [
      "0\n",
      "1\n",
      "1\n",
      "2\n",
      "3\n",
      "5\n",
      "8\n",
      "13\n",
      "21\n",
      "34\n",
      "55\n"
     ]
    }
   ],
   "source": [
    "num = int(input(\"Enter your limit for fib\"))\n",
    "a,b = 0,1\n",
    "counter=0\n",
    "while counter <= num:\n",
    "    print(a)\n",
    "    c=a+b\n",
    "    a=b\n",
    "    b=c\n",
    "    counter=counter+1"
   ]
  },
  {
   "cell_type": "markdown",
   "id": "4aaa867c-6e09-4033-84c6-7843a0ca4030",
   "metadata": {},
   "source": [
    "7)"
   ]
  },
  {
   "cell_type": "code",
   "execution_count": 5,
   "id": "f526bbc2-965b-4064-8e8e-efff06bc8409",
   "metadata": {},
   "outputs": [],
   "source": [
    "l=\"pwskills\""
   ]
  },
  {
   "cell_type": "code",
   "execution_count": 6,
   "id": "6315b555-7523-4019-8a46-da4c25c2c07c",
   "metadata": {},
   "outputs": [
    {
     "data": {
      "text/plain": [
       "['p', 'w', 's', 'k', 'i', 'l', 'l', 's']"
      ]
     },
     "execution_count": 6,
     "metadata": {},
     "output_type": "execute_result"
    }
   ],
   "source": [
    "[i for i in l]"
   ]
  },
  {
   "cell_type": "markdown",
   "id": "3ea9cbeb-f136-4587-9852-e60bf60683c5",
   "metadata": {},
   "source": [
    "8)"
   ]
  },
  {
   "cell_type": "code",
   "execution_count": 10,
   "id": "04def227-1467-4cdc-bde7-d9eac76b8908",
   "metadata": {},
   "outputs": [
    {
     "name": "stdin",
     "output_type": "stream",
     "text": [
      "Enter your number to check palindrome or not 555\n"
     ]
    },
    {
     "name": "stdout",
     "output_type": "stream",
     "text": [
      "palindrome number\n"
     ]
    }
   ],
   "source": [
    "i = int(input(\"Enter your number to check palindrome or not\"))\n",
    "rev=0\n",
    "x=i\n",
    "while(i>0):\n",
    "    rev=(rev*10)+ i%10\n",
    "    i=i//10\n",
    "if(x==rev):\n",
    "    print(\"palindrome number\")\n",
    "else:\n",
    "    print(\"not a palindrome number\")\n",
    "    \n"
   ]
  },
  {
   "cell_type": "markdown",
   "id": "63d5087e-639c-40d6-b7af-11d597eaa38c",
   "metadata": {},
   "source": [
    "9)"
   ]
  },
  {
   "cell_type": "code",
   "execution_count": 12,
   "id": "7ebb1a38-82b0-4577-bfe2-c4a86c30d59d",
   "metadata": {},
   "outputs": [
    {
     "data": {
      "text/plain": [
       "[1,\n",
       " 3,\n",
       " 5,\n",
       " 7,\n",
       " 9,\n",
       " 11,\n",
       " 13,\n",
       " 15,\n",
       " 17,\n",
       " 19,\n",
       " 21,\n",
       " 23,\n",
       " 25,\n",
       " 27,\n",
       " 29,\n",
       " 31,\n",
       " 33,\n",
       " 35,\n",
       " 37,\n",
       " 39,\n",
       " 41,\n",
       " 43,\n",
       " 45,\n",
       " 47,\n",
       " 49,\n",
       " 51,\n",
       " 53,\n",
       " 55,\n",
       " 57,\n",
       " 59,\n",
       " 61,\n",
       " 63,\n",
       " 65,\n",
       " 67,\n",
       " 69,\n",
       " 71,\n",
       " 73,\n",
       " 75,\n",
       " 77,\n",
       " 79,\n",
       " 81,\n",
       " 83,\n",
       " 85,\n",
       " 87,\n",
       " 89,\n",
       " 91,\n",
       " 93,\n",
       " 95,\n",
       " 97,\n",
       " 99]"
      ]
     },
     "execution_count": 12,
     "metadata": {},
     "output_type": "execute_result"
    }
   ],
   "source": [
    "l=range(1,101)\n",
    "[i for i in l if i%2 != 0]"
   ]
  },
  {
   "cell_type": "code",
   "execution_count": null,
   "id": "02d729b3-f606-4c12-899b-552f76557532",
   "metadata": {},
   "outputs": [],
   "source": []
  }
 ],
 "metadata": {
  "kernelspec": {
   "display_name": "Python 3 (ipykernel)",
   "language": "python",
   "name": "python3"
  },
  "language_info": {
   "codemirror_mode": {
    "name": "ipython",
    "version": 3
   },
   "file_extension": ".py",
   "mimetype": "text/x-python",
   "name": "python",
   "nbconvert_exporter": "python",
   "pygments_lexer": "ipython3",
   "version": "3.10.8"
  }
 },
 "nbformat": 4,
 "nbformat_minor": 5
}
